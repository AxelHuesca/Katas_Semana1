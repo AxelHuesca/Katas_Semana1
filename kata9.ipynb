{
 "cells": [
  {
   "cell_type": "markdown",
   "metadata": {},
   "source": [
    "## Ejercicio 1\n"
   ]
  },
  {
   "cell_type": "code",
   "execution_count": 3,
   "metadata": {},
   "outputs": [
    {
     "name": "stdout",
     "output_type": "stream",
     "text": [
      "reporte de combustible:\n",
      "    Total promedio: 78.33333333333333%\n",
      "    tanque principal: 80%\n",
      "    tanque externo: 70%\n",
      "    tanque de hidrogeno: 85% \n",
      "    \n",
      "reporte de combustible:\n",
      "    Total promedio: 78.0%\n",
      "    tanque principal: 88%\n",
      "    tanque externo: 76%\n",
      "    tanque de hidrogeno: 70% \n",
      "    \n"
     ]
    }
   ],
   "source": [
    "def generar_reporte(main_tank, external_tank, hydrogen_tank):\n",
    "    total_promedio = (main_tank + external_tank + hydrogen_tank) / 3\n",
    "    return f\"\"\"reporte de combustible:\n",
    "    Total promedio: {total_promedio}%\n",
    "    tanque principal: {main_tank}%\n",
    "    tanque externo: {external_tank}%\n",
    "    tanque de hidrogeno: {hydrogen_tank}% \n",
    "    \"\"\"\n",
    "print(generar_reporte(80, 70, 85))\n",
    "def average(values):\n",
    "    total = sum(values)\n",
    "    numero_de_items = len(values)\n",
    "    return total / numero_de_items\n",
    "\n",
    "\n",
    "average([80, 85, 81]) \n",
    "def generar_reporte(main_tank, external_tank, hydrogen_tank):\n",
    "    return f\"\"\"reporte de combustible:\n",
    "    Total promedio: {average([main_tank, external_tank, hydrogen_tank])}%\n",
    "    tanque principal: {main_tank}%\n",
    "    tanque externo: {external_tank}%\n",
    "    tanque de hidrogeno: {hydrogen_tank}% \n",
    "    \"\"\"\n",
    "\n",
    "print(generar_reporte(88, 76, 70))\n"
   ]
  },
  {
   "cell_type": "markdown",
   "metadata": {},
   "source": [
    "## Ejercicio 2\n"
   ]
  },
  {
   "cell_type": "code",
   "execution_count": null,
   "metadata": {},
   "outputs": [],
   "source": [
    "def mission_report(pre_launch_time, flight_time, destination, external_tank, main_tank):\n",
    "    return f\"\"\"\n",
    "    Mission to {destination}\n",
    "    Total travel time: {pre_launch_time + flight_time} minutes\n",
    "    Total fuel left: {external_tank + main_tank} gallons\n",
    "    \"\"\"\n",
    "\n",
    "print(mission_report(14, 51, \"Moon\", 200000, 300000))\n",
    "\n",
    "def mission_report(destination, *minutes, **fuel_reservoirs):\n",
    "    return f\"\"\"\n",
    "    Mission to {destination}\n",
    "    Total travel time: {sum(minutes)} minutes\n",
    "    Total fuel left: {sum(fuel_reservoirs.values())}\n",
    "    \"\"\"\n",
    "\n",
    "print(mission_report(\"Moon\", 10, 15, 51, main=300000, external=200000))\n",
    "\n",
    "def mission_report(destination, *minutes, **fuel_reservoirs):\n",
    "    main_report = f\"\"\"\n",
    "    Mission to {destination}\n",
    "    Total travel time: {sum(minutes)} minutes\n",
    "    Total fuel left: {sum(fuel_reservoirs.values())}\n",
    "    \"\"\"\n",
    "    for tank_name, gallons in fuel_reservoirs.items():\n",
    "        main_report += f\"{tank_name} tank --> {gallons} gallons left\\n\"\n",
    "    return main_report\n",
    "\n",
    "print(mission_report(\"Moon\", 8, 11, 55, main=300000, external=200000))"
   ]
  }
 ],
 "metadata": {
  "interpreter": {
   "hash": "b89b5cfaba6639976dc87ff2fec6d58faec662063367e2c229c520fe71072417"
  },
  "kernelspec": {
   "display_name": "Python 3.10.2 64-bit",
   "language": "python",
   "name": "python3"
  },
  "language_info": {
   "codemirror_mode": {
    "name": "ipython",
    "version": 3
   },
   "file_extension": ".py",
   "mimetype": "text/x-python",
   "name": "python",
   "nbconvert_exporter": "python",
   "pygments_lexer": "ipython3",
   "version": "3.10.2"
  },
  "orig_nbformat": 4
 },
 "nbformat": 4,
 "nbformat_minor": 2
}
